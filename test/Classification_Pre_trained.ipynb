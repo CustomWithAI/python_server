{
  "nbformat": 4,
  "nbformat_minor": 0,
  "metadata": {
    "colab": {
      "provenance": [],
      "gpuType": "T4"
    },
    "kernelspec": {
      "name": "python3",
      "display_name": "Python 3"
    },
    "language_info": {
      "name": "python"
    },
    "accelerator": "GPU"
  },
  "cells": [
    {
      "cell_type": "code",
      "source": [
        "!gdown 1OdTQ2yYES10aaUeDvNpfTlF9xI_zirly"
      ],
      "metadata": {
        "colab": {
          "base_uri": "https://localhost:8080/"
        },
        "id": "X09BIBtUYIdi",
        "outputId": "4f218dfc-38e1-45e0-9a2d-39b254caf340"
      },
      "execution_count": 1,
      "outputs": [
        {
          "output_type": "stream",
          "name": "stdout",
          "text": [
            "Downloading...\n",
            "From (original): https://drive.google.com/uc?id=1OdTQ2yYES10aaUeDvNpfTlF9xI_zirly\n",
            "From (redirected): https://drive.google.com/uc?id=1OdTQ2yYES10aaUeDvNpfTlF9xI_zirly&confirm=t&uuid=f9032f5f-974f-4f07-bbb5-beff8747ccd3\n",
            "To: /content/test_dataset_cls.zip\n",
            "100% 50.6M/50.6M [00:02<00:00, 25.2MB/s]\n"
          ]
        }
      ]
    },
    {
      "cell_type": "code",
      "source": [
        "!unzip /content/test_dataset_cls.zip"
      ],
      "metadata": {
        "colab": {
          "base_uri": "https://localhost:8080/"
        },
        "id": "90qv9MXLYlLv",
        "outputId": "d677488f-4c60-419c-daa7-30d860b6fe5c"
      },
      "execution_count": 3,
      "outputs": [
        {
          "output_type": "stream",
          "name": "stdout",
          "text": [
            "Archive:  /content/test_dataset_cls.zip\n",
            "replace test/.DS_Store? [y]es, [n]o, [A]ll, [N]one, [r]ename: "
          ]
        }
      ]
    },
    {
      "cell_type": "code",
      "source": [
        "import tensorflow as tf\n",
        "from tensorflow.keras.preprocessing.image import ImageDataGenerator\n",
        "from tensorflow.keras.optimizers import Adam\n",
        "from sklearn.metrics import precision_score, recall_score, f1_score, accuracy_score\n",
        "import numpy as np\n",
        "from tensorflow.keras import layers, Model\n",
        "from tensorflow.keras.applications import ResNet50, VGG16, MobileNetV2\n",
        "from tensorflow.keras.optimizers import Adam, SGD\n",
        "\n",
        "# Training config\n",
        "config = {\n",
        "    \"learning_rate\": 0.001,\n",
        "    \"momentum\": 0.5,\n",
        "    \"optimizer_type\": \"adam\",\n",
        "    \"batch_size\": 128,\n",
        "    \"epochs\": 100,\n",
        "    \"loss_function\": \"categorical_crossentropy\",\n",
        "    \"unfreeze\": 0.1  # 10%\n",
        "}"
      ],
      "metadata": {
        "id": "h8TWKL1bXnOE"
      },
      "execution_count": 4,
      "outputs": []
    },
    {
      "cell_type": "code",
      "source": [
        "# Data generators\n",
        "datagen = ImageDataGenerator(rescale=1./255)\n",
        "\n",
        "train_generator = datagen.flow_from_directory(\n",
        "    'dataset/train', target_size=(100, 100), batch_size=config[\"batch_size\"], class_mode='categorical'\n",
        ")\n",
        "\n",
        "valid_generator = datagen.flow_from_directory(\n",
        "    'dataset/valid', target_size=(100, 100), batch_size=config[\"batch_size\"], class_mode='categorical'\n",
        ")\n",
        "\n",
        "test_generator = datagen.flow_from_directory(\n",
        "    'dataset/test', target_size=(100, 100), batch_size=config[\"batch_size\"], class_mode='categorical', shuffle=False\n",
        ")\n",
        "\n",
        "num_classes = train_generator.num_classes"
      ],
      "metadata": {
        "colab": {
          "base_uri": "https://localhost:8080/"
        },
        "id": "O4Rkv1HjXo0j",
        "outputId": "f9adf210-c720-40bb-cd99-87ad7ab9cf10"
      },
      "execution_count": 11,
      "outputs": [
        {
          "output_type": "stream",
          "name": "stdout",
          "text": [
            "Found 7624 images belonging to 53 classes.\n",
            "Found 265 images belonging to 53 classes.\n",
            "Found 265 images belonging to 53 classes.\n"
          ]
        }
      ]
    },
    {
      "cell_type": "code",
      "source": [
        "# Base model\n",
        "base_model = tf.keras.applications.ResNet50(\n",
        "    weights='imagenet',\n",
        "    include_top=False,\n",
        "    input_shape=(100, 100, 3)\n",
        ")\n",
        "base_model.trainable = False  # Freeze all layers initially\n",
        "\n",
        "# Custom head\n",
        "x = base_model.output\n",
        "x = layers.GlobalAveragePooling2D()(x)\n",
        "x = layers.Dense(1024, activation='relu')(x)\n",
        "x = layers.Dropout(0.5)(x)\n",
        "predictions = layers.Dense(num_classes, activation='softmax')(x)\n",
        "\n",
        "model = Model(inputs=base_model.input, outputs=predictions)\n",
        "\n",
        "# Compile\n",
        "optimizer = Adam(learning_rate=config[\"learning_rate\"])\n",
        "\n",
        "# Unfreeze last 10% of base_model layers\n",
        "total_layers = len(base_model.layers)\n",
        "unfreeze_count = int(total_layers * config[\"unfreeze\"])\n",
        "for layer in base_model.layers[-unfreeze_count:]:\n",
        "    layer.trainable = True\n",
        "\n",
        "# Re-compile and fine-tune\n",
        "model.compile(optimizer=optimizer, loss=config[\"loss_function\"], metrics=['accuracy'])"
      ],
      "metadata": {
        "colab": {
          "base_uri": "https://localhost:8080/"
        },
        "id": "wk9FCkloYEpK",
        "outputId": "8797f1fa-2dad-490d-a4d8-54e902bee040"
      },
      "execution_count": 6,
      "outputs": [
        {
          "output_type": "stream",
          "name": "stdout",
          "text": [
            "Downloading data from https://storage.googleapis.com/tensorflow/keras-applications/resnet/resnet50_weights_tf_dim_ordering_tf_kernels_notop.h5\n",
            "\u001b[1m94765736/94765736\u001b[0m \u001b[32m━━━━━━━━━━━━━━━━━━━━\u001b[0m\u001b[37m\u001b[0m \u001b[1m3s\u001b[0m 0us/step\n"
          ]
        }
      ]
    },
    {
      "cell_type": "code",
      "source": [
        "# Base model\n",
        "base_model = tf.keras.applications.MobileNetV2(\n",
        "    weights='imagenet',\n",
        "    include_top=False,\n",
        "    input_shape=(100, 100, 3)\n",
        ")\n",
        "base_model.trainable = False  # Freeze all layers initially\n",
        "\n",
        "# Custom head\n",
        "x = base_model.output\n",
        "x = layers.GlobalAveragePooling2D()(x)\n",
        "x = layers.Dense(1024, activation='relu')(x)\n",
        "x = layers.Dropout(0.5)(x)\n",
        "predictions = layers.Dense(num_classes, activation='softmax')(x)\n",
        "\n",
        "model = Model(inputs=base_model.input, outputs=predictions)\n",
        "\n",
        "# Compile\n",
        "optimizer = Adam(learning_rate=config[\"learning_rate\"])\n",
        "\n",
        "# Unfreeze last 10% of base_model layers\n",
        "total_layers = len(base_model.layers)\n",
        "unfreeze_count = int(total_layers * config[\"unfreeze\"])\n",
        "for layer in base_model.layers[-unfreeze_count:]:\n",
        "    layer.trainable = True\n",
        "\n",
        "# Re-compile and fine-tune\n",
        "model.compile(optimizer=optimizer, loss=config[\"loss_function\"], metrics=['accuracy'])"
      ],
      "metadata": {
        "colab": {
          "base_uri": "https://localhost:8080/"
        },
        "id": "J_vc4v9qcAfD",
        "outputId": "ab9ef208-a2dd-4d15-b595-212bc86e2bd0"
      },
      "execution_count": 7,
      "outputs": [
        {
          "output_type": "stream",
          "name": "stderr",
          "text": [
            "<ipython-input-7-cbc236cfe6ba>:2: UserWarning: `input_shape` is undefined or non-square, or `rows` is not in [96, 128, 160, 192, 224]. Weights for input shape (224, 224) will be loaded as the default.\n",
            "  base_model = tf.keras.applications.MobileNetV2(\n"
          ]
        },
        {
          "output_type": "stream",
          "name": "stdout",
          "text": [
            "Downloading data from https://storage.googleapis.com/tensorflow/keras-applications/mobilenet_v2/mobilenet_v2_weights_tf_dim_ordering_tf_kernels_1.0_224_no_top.h5\n",
            "\u001b[1m9406464/9406464\u001b[0m \u001b[32m━━━━━━━━━━━━━━━━━━━━\u001b[0m\u001b[37m\u001b[0m \u001b[1m1s\u001b[0m 0us/step\n"
          ]
        }
      ]
    },
    {
      "cell_type": "code",
      "source": [
        "# Base model\n",
        "base_model = tf.keras.applications.VGG16(\n",
        "    weights='imagenet',\n",
        "    include_top=False,\n",
        "    input_shape=(100, 100, 3)\n",
        ")\n",
        "base_model.trainable = False  # Freeze all layers initially\n",
        "\n",
        "# Custom head\n",
        "x = base_model.output\n",
        "x = layers.GlobalAveragePooling2D()(x)\n",
        "x = layers.Dense(1024, activation='relu')(x)\n",
        "x = layers.Dropout(0.5)(x)\n",
        "predictions = layers.Dense(num_classes, activation='softmax')(x)\n",
        "\n",
        "model = Model(inputs=base_model.input, outputs=predictions)\n",
        "\n",
        "# Compile\n",
        "optimizer = Adam(learning_rate=config[\"learning_rate\"])\n",
        "\n",
        "# Unfreeze last 10% of base_model layers\n",
        "total_layers = len(base_model.layers)\n",
        "unfreeze_count = int(total_layers * config[\"unfreeze\"])\n",
        "for layer in base_model.layers[-unfreeze_count:]:\n",
        "    layer.trainable = True\n",
        "\n",
        "# Re-compile and fine-tune\n",
        "model.compile(optimizer=optimizer, loss=config[\"loss_function\"], metrics=['accuracy'])"
      ],
      "metadata": {
        "colab": {
          "base_uri": "https://localhost:8080/"
        },
        "id": "XXT0QncycDE3",
        "outputId": "727d9fc1-9383-4411-c0bd-20f7274a36fc"
      },
      "execution_count": 10,
      "outputs": [
        {
          "output_type": "stream",
          "name": "stdout",
          "text": [
            "Downloading data from https://storage.googleapis.com/tensorflow/keras-applications/vgg16/vgg16_weights_tf_dim_ordering_tf_kernels_notop.h5\n",
            "\u001b[1m58889256/58889256\u001b[0m \u001b[32m━━━━━━━━━━━━━━━━━━━━\u001b[0m\u001b[37m\u001b[0m \u001b[1m2s\u001b[0m 0us/step\n"
          ]
        }
      ]
    },
    {
      "cell_type": "code",
      "source": [
        "model.fit(\n",
        "    train_generator,\n",
        "    epochs=config[\"epochs\"],\n",
        "    validation_data=valid_generator\n",
        ")"
      ],
      "metadata": {
        "colab": {
          "base_uri": "https://localhost:8080/"
        },
        "id": "yeMtMsaHZ0-Z",
        "outputId": "7349afc8-d4e6-4149-f603-750a983f2f80"
      },
      "execution_count": 12,
      "outputs": [
        {
          "output_type": "stream",
          "name": "stdout",
          "text": [
            "Epoch 1/100\n"
          ]
        },
        {
          "output_type": "stream",
          "name": "stderr",
          "text": [
            "/usr/local/lib/python3.11/dist-packages/keras/src/trainers/data_adapters/py_dataset_adapter.py:121: UserWarning: Your `PyDataset` class should call `super().__init__(**kwargs)` in its constructor. `**kwargs` can include `workers`, `use_multiprocessing`, `max_queue_size`. Do not pass these arguments to `fit()`, as they will be ignored.\n",
            "  self._warn_if_super_not_called()\n"
          ]
        },
        {
          "output_type": "stream",
          "name": "stdout",
          "text": [
            "\u001b[1m60/60\u001b[0m \u001b[32m━━━━━━━━━━━━━━━━━━━━\u001b[0m\u001b[37m\u001b[0m \u001b[1m39s\u001b[0m 401ms/step - accuracy: 0.0655 - loss: 3.8051 - val_accuracy: 0.2604 - val_loss: 2.8904\n",
            "Epoch 2/100\n",
            "\u001b[1m60/60\u001b[0m \u001b[32m━━━━━━━━━━━━━━━━━━━━\u001b[0m\u001b[37m\u001b[0m \u001b[1m11s\u001b[0m 177ms/step - accuracy: 0.2334 - loss: 2.9226 - val_accuracy: 0.3396 - val_loss: 2.4174\n",
            "Epoch 3/100\n",
            "\u001b[1m60/60\u001b[0m \u001b[32m━━━━━━━━━━━━━━━━━━━━\u001b[0m\u001b[37m\u001b[0m \u001b[1m11s\u001b[0m 175ms/step - accuracy: 0.3163 - loss: 2.5365 - val_accuracy: 0.3774 - val_loss: 2.1310\n",
            "Epoch 4/100\n",
            "\u001b[1m60/60\u001b[0m \u001b[32m━━━━━━━━━━━━━━━━━━━━\u001b[0m\u001b[37m\u001b[0m \u001b[1m11s\u001b[0m 178ms/step - accuracy: 0.3836 - loss: 2.2816 - val_accuracy: 0.4491 - val_loss: 1.9491\n",
            "Epoch 5/100\n",
            "\u001b[1m60/60\u001b[0m \u001b[32m━━━━━━━━━━━━━━━━━━━━\u001b[0m\u001b[37m\u001b[0m \u001b[1m11s\u001b[0m 182ms/step - accuracy: 0.4247 - loss: 2.1315 - val_accuracy: 0.5132 - val_loss: 1.8323\n",
            "Epoch 6/100\n",
            "\u001b[1m60/60\u001b[0m \u001b[32m━━━━━━━━━━━━━━━━━━━━\u001b[0m\u001b[37m\u001b[0m \u001b[1m11s\u001b[0m 185ms/step - accuracy: 0.4552 - loss: 2.0208 - val_accuracy: 0.5396 - val_loss: 1.7275\n",
            "Epoch 7/100\n",
            "\u001b[1m60/60\u001b[0m \u001b[32m━━━━━━━━━━━━━━━━━━━━\u001b[0m\u001b[37m\u001b[0m \u001b[1m11s\u001b[0m 183ms/step - accuracy: 0.4805 - loss: 1.9281 - val_accuracy: 0.5132 - val_loss: 1.6799\n",
            "Epoch 8/100\n",
            "\u001b[1m60/60\u001b[0m \u001b[32m━━━━━━━━━━━━━━━━━━━━\u001b[0m\u001b[37m\u001b[0m \u001b[1m11s\u001b[0m 181ms/step - accuracy: 0.4978 - loss: 1.8541 - val_accuracy: 0.5283 - val_loss: 1.5949\n",
            "Epoch 9/100\n",
            "\u001b[1m60/60\u001b[0m \u001b[32m━━━━━━━━━━━━━━━━━━━━\u001b[0m\u001b[37m\u001b[0m \u001b[1m11s\u001b[0m 180ms/step - accuracy: 0.5260 - loss: 1.7392 - val_accuracy: 0.5509 - val_loss: 1.5578\n",
            "Epoch 10/100\n",
            "\u001b[1m60/60\u001b[0m \u001b[32m━━━━━━━━━━━━━━━━━━━━\u001b[0m\u001b[37m\u001b[0m \u001b[1m11s\u001b[0m 179ms/step - accuracy: 0.5278 - loss: 1.7066 - val_accuracy: 0.6075 - val_loss: 1.5008\n",
            "Epoch 11/100\n",
            "\u001b[1m60/60\u001b[0m \u001b[32m━━━━━━━━━━━━━━━━━━━━\u001b[0m\u001b[37m\u001b[0m \u001b[1m11s\u001b[0m 178ms/step - accuracy: 0.5503 - loss: 1.6478 - val_accuracy: 0.5849 - val_loss: 1.4601\n",
            "Epoch 12/100\n",
            "\u001b[1m60/60\u001b[0m \u001b[32m━━━━━━━━━━━━━━━━━━━━\u001b[0m\u001b[37m\u001b[0m \u001b[1m11s\u001b[0m 179ms/step - accuracy: 0.5584 - loss: 1.5722 - val_accuracy: 0.6226 - val_loss: 1.4281\n",
            "Epoch 13/100\n",
            "\u001b[1m60/60\u001b[0m \u001b[32m━━━━━━━━━━━━━━━━━━━━\u001b[0m\u001b[37m\u001b[0m \u001b[1m11s\u001b[0m 180ms/step - accuracy: 0.5800 - loss: 1.5162 - val_accuracy: 0.6151 - val_loss: 1.3941\n",
            "Epoch 14/100\n",
            "\u001b[1m60/60\u001b[0m \u001b[32m━━━━━━━━━━━━━━━━━━━━\u001b[0m\u001b[37m\u001b[0m \u001b[1m11s\u001b[0m 181ms/step - accuracy: 0.5831 - loss: 1.4914 - val_accuracy: 0.6000 - val_loss: 1.3960\n",
            "Epoch 15/100\n",
            "\u001b[1m60/60\u001b[0m \u001b[32m━━━━━━━━━━━━━━━━━━━━\u001b[0m\u001b[37m\u001b[0m \u001b[1m11s\u001b[0m 181ms/step - accuracy: 0.6085 - loss: 1.4219 - val_accuracy: 0.6151 - val_loss: 1.3399\n",
            "Epoch 16/100\n",
            "\u001b[1m60/60\u001b[0m \u001b[32m━━━━━━━━━━━━━━━━━━━━\u001b[0m\u001b[37m\u001b[0m \u001b[1m11s\u001b[0m 181ms/step - accuracy: 0.6184 - loss: 1.3751 - val_accuracy: 0.6415 - val_loss: 1.3213\n",
            "Epoch 17/100\n",
            "\u001b[1m60/60\u001b[0m \u001b[32m━━━━━━━━━━━━━━━━━━━━\u001b[0m\u001b[37m\u001b[0m \u001b[1m11s\u001b[0m 184ms/step - accuracy: 0.6289 - loss: 1.3356 - val_accuracy: 0.6340 - val_loss: 1.3212\n",
            "Epoch 18/100\n",
            "\u001b[1m60/60\u001b[0m \u001b[32m━━━━━━━━━━━━━━━━━━━━\u001b[0m\u001b[37m\u001b[0m \u001b[1m11s\u001b[0m 181ms/step - accuracy: 0.6402 - loss: 1.3096 - val_accuracy: 0.6453 - val_loss: 1.2789\n",
            "Epoch 19/100\n",
            "\u001b[1m60/60\u001b[0m \u001b[32m━━━━━━━━━━━━━━━━━━━━\u001b[0m\u001b[37m\u001b[0m \u001b[1m11s\u001b[0m 183ms/step - accuracy: 0.6483 - loss: 1.2420 - val_accuracy: 0.6642 - val_loss: 1.2531\n",
            "Epoch 20/100\n",
            "\u001b[1m60/60\u001b[0m \u001b[32m━━━━━━━━━━━━━━━━━━━━\u001b[0m\u001b[37m\u001b[0m \u001b[1m11s\u001b[0m 180ms/step - accuracy: 0.6489 - loss: 1.2680 - val_accuracy: 0.6377 - val_loss: 1.2757\n",
            "Epoch 21/100\n",
            "\u001b[1m60/60\u001b[0m \u001b[32m━━━━━━━━━━━━━━━━━━━━\u001b[0m\u001b[37m\u001b[0m \u001b[1m11s\u001b[0m 179ms/step - accuracy: 0.6597 - loss: 1.2038 - val_accuracy: 0.6679 - val_loss: 1.2212\n",
            "Epoch 22/100\n",
            "\u001b[1m60/60\u001b[0m \u001b[32m━━━━━━━━━━━━━━━━━━━━\u001b[0m\u001b[37m\u001b[0m \u001b[1m11s\u001b[0m 179ms/step - accuracy: 0.6664 - loss: 1.1667 - val_accuracy: 0.6604 - val_loss: 1.2315\n",
            "Epoch 23/100\n",
            "\u001b[1m60/60\u001b[0m \u001b[32m━━━━━━━━━━━━━━━━━━━━\u001b[0m\u001b[37m\u001b[0m \u001b[1m20s\u001b[0m 179ms/step - accuracy: 0.6874 - loss: 1.1355 - val_accuracy: 0.6528 - val_loss: 1.2223\n",
            "Epoch 24/100\n",
            "\u001b[1m60/60\u001b[0m \u001b[32m━━━━━━━━━━━━━━━━━━━━\u001b[0m\u001b[37m\u001b[0m \u001b[1m11s\u001b[0m 188ms/step - accuracy: 0.6851 - loss: 1.1158 - val_accuracy: 0.6642 - val_loss: 1.2077\n",
            "Epoch 25/100\n",
            "\u001b[1m60/60\u001b[0m \u001b[32m━━━━━━━━━━━━━━━━━━━━\u001b[0m\u001b[37m\u001b[0m \u001b[1m12s\u001b[0m 194ms/step - accuracy: 0.6856 - loss: 1.1048 - val_accuracy: 0.6377 - val_loss: 1.1842\n",
            "Epoch 26/100\n",
            "\u001b[1m60/60\u001b[0m \u001b[32m━━━━━━━━━━━━━━━━━━━━\u001b[0m\u001b[37m\u001b[0m \u001b[1m11s\u001b[0m 184ms/step - accuracy: 0.7042 - loss: 1.0571 - val_accuracy: 0.6491 - val_loss: 1.1951\n",
            "Epoch 27/100\n",
            "\u001b[1m60/60\u001b[0m \u001b[32m━━━━━━━━━━━━━━━━━━━━\u001b[0m\u001b[37m\u001b[0m \u001b[1m11s\u001b[0m 179ms/step - accuracy: 0.7040 - loss: 1.0568 - val_accuracy: 0.6868 - val_loss: 1.1549\n",
            "Epoch 28/100\n",
            "\u001b[1m60/60\u001b[0m \u001b[32m━━━━━━━━━━━━━━━━━━━━\u001b[0m\u001b[37m\u001b[0m \u001b[1m11s\u001b[0m 178ms/step - accuracy: 0.7145 - loss: 1.0104 - val_accuracy: 0.6679 - val_loss: 1.1746\n",
            "Epoch 29/100\n",
            "\u001b[1m60/60\u001b[0m \u001b[32m━━━━━━━━━━━━━━━━━━━━\u001b[0m\u001b[37m\u001b[0m \u001b[1m11s\u001b[0m 177ms/step - accuracy: 0.7165 - loss: 0.9927 - val_accuracy: 0.6792 - val_loss: 1.1510\n",
            "Epoch 30/100\n",
            "\u001b[1m60/60\u001b[0m \u001b[32m━━━━━━━━━━━━━━━━━━━━\u001b[0m\u001b[37m\u001b[0m \u001b[1m11s\u001b[0m 178ms/step - accuracy: 0.7237 - loss: 0.9596 - val_accuracy: 0.6981 - val_loss: 1.1635\n",
            "Epoch 31/100\n",
            "\u001b[1m60/60\u001b[0m \u001b[32m━━━━━━━━━━━━━━━━━━━━\u001b[0m\u001b[37m\u001b[0m \u001b[1m11s\u001b[0m 179ms/step - accuracy: 0.7319 - loss: 0.9211 - val_accuracy: 0.6830 - val_loss: 1.1580\n",
            "Epoch 32/100\n",
            "\u001b[1m60/60\u001b[0m \u001b[32m━━━━━━━━━━━━━━━━━━━━\u001b[0m\u001b[37m\u001b[0m \u001b[1m11s\u001b[0m 181ms/step - accuracy: 0.7418 - loss: 0.9193 - val_accuracy: 0.6868 - val_loss: 1.1416\n",
            "Epoch 33/100\n",
            "\u001b[1m60/60\u001b[0m \u001b[32m━━━━━━━━━━━━━━━━━━━━\u001b[0m\u001b[37m\u001b[0m \u001b[1m11s\u001b[0m 182ms/step - accuracy: 0.7503 - loss: 0.8879 - val_accuracy: 0.6566 - val_loss: 1.1436\n",
            "Epoch 34/100\n",
            "\u001b[1m60/60\u001b[0m \u001b[32m━━━━━━━━━━━━━━━━━━━━\u001b[0m\u001b[37m\u001b[0m \u001b[1m20s\u001b[0m 177ms/step - accuracy: 0.7590 - loss: 0.8698 - val_accuracy: 0.6679 - val_loss: 1.1430\n",
            "Epoch 35/100\n",
            "\u001b[1m60/60\u001b[0m \u001b[32m━━━━━━━━━━━━━━━━━━━━\u001b[0m\u001b[37m\u001b[0m \u001b[1m11s\u001b[0m 184ms/step - accuracy: 0.7629 - loss: 0.8223 - val_accuracy: 0.6755 - val_loss: 1.1224\n",
            "Epoch 36/100\n",
            "\u001b[1m60/60\u001b[0m \u001b[32m━━━━━━━━━━━━━━━━━━━━\u001b[0m\u001b[37m\u001b[0m \u001b[1m11s\u001b[0m 187ms/step - accuracy: 0.7590 - loss: 0.8183 - val_accuracy: 0.6792 - val_loss: 1.1277\n",
            "Epoch 37/100\n",
            "\u001b[1m60/60\u001b[0m \u001b[32m━━━━━━━━━━━━━━━━━━━━\u001b[0m\u001b[37m\u001b[0m \u001b[1m11s\u001b[0m 185ms/step - accuracy: 0.7687 - loss: 0.8191 - val_accuracy: 0.6868 - val_loss: 1.1539\n",
            "Epoch 38/100\n",
            "\u001b[1m60/60\u001b[0m \u001b[32m━━━━━━━━━━━━━━━━━━━━\u001b[0m\u001b[37m\u001b[0m \u001b[1m11s\u001b[0m 180ms/step - accuracy: 0.7839 - loss: 0.7757 - val_accuracy: 0.6906 - val_loss: 1.1179\n",
            "Epoch 39/100\n",
            "\u001b[1m60/60\u001b[0m \u001b[32m━━━━━━━━━━━━━━━━━━━━\u001b[0m\u001b[37m\u001b[0m \u001b[1m11s\u001b[0m 178ms/step - accuracy: 0.7703 - loss: 0.7823 - val_accuracy: 0.6830 - val_loss: 1.1123\n",
            "Epoch 40/100\n",
            "\u001b[1m60/60\u001b[0m \u001b[32m━━━━━━━━━━━━━━━━━━━━\u001b[0m\u001b[37m\u001b[0m \u001b[1m11s\u001b[0m 178ms/step - accuracy: 0.7792 - loss: 0.7564 - val_accuracy: 0.6868 - val_loss: 1.1220\n",
            "Epoch 41/100\n",
            "\u001b[1m60/60\u001b[0m \u001b[32m━━━━━━━━━━━━━━━━━━━━\u001b[0m\u001b[37m\u001b[0m \u001b[1m11s\u001b[0m 183ms/step - accuracy: 0.7885 - loss: 0.7447 - val_accuracy: 0.6755 - val_loss: 1.1339\n",
            "Epoch 42/100\n",
            "\u001b[1m60/60\u001b[0m \u001b[32m━━━━━━━━━━━━━━━━━━━━\u001b[0m\u001b[37m\u001b[0m \u001b[1m11s\u001b[0m 181ms/step - accuracy: 0.7966 - loss: 0.7227 - val_accuracy: 0.6755 - val_loss: 1.1114\n",
            "Epoch 43/100\n",
            "\u001b[1m60/60\u001b[0m \u001b[32m━━━━━━━━━━━━━━━━━━━━\u001b[0m\u001b[37m\u001b[0m \u001b[1m20s\u001b[0m 180ms/step - accuracy: 0.7925 - loss: 0.7170 - val_accuracy: 0.6868 - val_loss: 1.1154\n",
            "Epoch 44/100\n",
            "\u001b[1m60/60\u001b[0m \u001b[32m━━━━━━━━━━━━━━━━━━━━\u001b[0m\u001b[37m\u001b[0m \u001b[1m11s\u001b[0m 185ms/step - accuracy: 0.7975 - loss: 0.6846 - val_accuracy: 0.6755 - val_loss: 1.1272\n",
            "Epoch 45/100\n",
            "\u001b[1m60/60\u001b[0m \u001b[32m━━━━━━━━━━━━━━━━━━━━\u001b[0m\u001b[37m\u001b[0m \u001b[1m11s\u001b[0m 187ms/step - accuracy: 0.8069 - loss: 0.6708 - val_accuracy: 0.6679 - val_loss: 1.1183\n",
            "Epoch 46/100\n",
            "\u001b[1m60/60\u001b[0m \u001b[32m━━━━━━━━━━━━━━━━━━━━\u001b[0m\u001b[37m\u001b[0m \u001b[1m11s\u001b[0m 182ms/step - accuracy: 0.8165 - loss: 0.6478 - val_accuracy: 0.6868 - val_loss: 1.1160\n",
            "Epoch 47/100\n",
            "\u001b[1m60/60\u001b[0m \u001b[32m━━━━━━━━━━━━━━━━━━━━\u001b[0m\u001b[37m\u001b[0m \u001b[1m11s\u001b[0m 179ms/step - accuracy: 0.8273 - loss: 0.6370 - val_accuracy: 0.6906 - val_loss: 1.1303\n",
            "Epoch 48/100\n",
            "\u001b[1m60/60\u001b[0m \u001b[32m━━━━━━━━━━━━━━━━━━━━\u001b[0m\u001b[37m\u001b[0m \u001b[1m11s\u001b[0m 178ms/step - accuracy: 0.8206 - loss: 0.6284 - val_accuracy: 0.6943 - val_loss: 1.1105\n",
            "Epoch 49/100\n",
            "\u001b[1m60/60\u001b[0m \u001b[32m━━━━━━━━━━━━━━━━━━━━\u001b[0m\u001b[37m\u001b[0m \u001b[1m11s\u001b[0m 178ms/step - accuracy: 0.8225 - loss: 0.6176 - val_accuracy: 0.6868 - val_loss: 1.1139\n",
            "Epoch 50/100\n",
            "\u001b[1m60/60\u001b[0m \u001b[32m━━━━━━━━━━━━━━━━━━━━\u001b[0m\u001b[37m\u001b[0m \u001b[1m11s\u001b[0m 179ms/step - accuracy: 0.8324 - loss: 0.5924 - val_accuracy: 0.6943 - val_loss: 1.0729\n",
            "Epoch 51/100\n",
            "\u001b[1m60/60\u001b[0m \u001b[32m━━━━━━━━━━━━━━━━━━━━\u001b[0m\u001b[37m\u001b[0m \u001b[1m20s\u001b[0m 177ms/step - accuracy: 0.8368 - loss: 0.5800 - val_accuracy: 0.7170 - val_loss: 1.0871\n",
            "Epoch 52/100\n",
            "\u001b[1m60/60\u001b[0m \u001b[32m━━━━━━━━━━━━━━━━━━━━\u001b[0m\u001b[37m\u001b[0m \u001b[1m11s\u001b[0m 189ms/step - accuracy: 0.8389 - loss: 0.5613 - val_accuracy: 0.7057 - val_loss: 1.0682\n",
            "Epoch 53/100\n",
            "\u001b[1m60/60\u001b[0m \u001b[32m━━━━━━━━━━━━━━━━━━━━\u001b[0m\u001b[37m\u001b[0m \u001b[1m11s\u001b[0m 190ms/step - accuracy: 0.8465 - loss: 0.5653 - val_accuracy: 0.6830 - val_loss: 1.1015\n",
            "Epoch 54/100\n",
            "\u001b[1m60/60\u001b[0m \u001b[32m━━━━━━━━━━━━━━━━━━━━\u001b[0m\u001b[37m\u001b[0m \u001b[1m11s\u001b[0m 182ms/step - accuracy: 0.8448 - loss: 0.5507 - val_accuracy: 0.7057 - val_loss: 1.1152\n",
            "Epoch 55/100\n",
            "\u001b[1m60/60\u001b[0m \u001b[32m━━━━━━━━━━━━━━━━━━━━\u001b[0m\u001b[37m\u001b[0m \u001b[1m11s\u001b[0m 179ms/step - accuracy: 0.8580 - loss: 0.5212 - val_accuracy: 0.6868 - val_loss: 1.1027\n",
            "Epoch 56/100\n",
            "\u001b[1m60/60\u001b[0m \u001b[32m━━━━━━━━━━━━━━━━━━━━\u001b[0m\u001b[37m\u001b[0m \u001b[1m11s\u001b[0m 177ms/step - accuracy: 0.8638 - loss: 0.5143 - val_accuracy: 0.6906 - val_loss: 1.0906\n",
            "Epoch 57/100\n",
            "\u001b[1m60/60\u001b[0m \u001b[32m━━━━━━━━━━━━━━━━━━━━\u001b[0m\u001b[37m\u001b[0m \u001b[1m11s\u001b[0m 177ms/step - accuracy: 0.8512 - loss: 0.5258 - val_accuracy: 0.6868 - val_loss: 1.1294\n",
            "Epoch 58/100\n",
            "\u001b[1m60/60\u001b[0m \u001b[32m━━━━━━━━━━━━━━━━━━━━\u001b[0m\u001b[37m\u001b[0m \u001b[1m11s\u001b[0m 178ms/step - accuracy: 0.8538 - loss: 0.5082 - val_accuracy: 0.6906 - val_loss: 1.1130\n",
            "Epoch 59/100\n",
            "\u001b[1m60/60\u001b[0m \u001b[32m━━━━━━━━━━━━━━━━━━━━\u001b[0m\u001b[37m\u001b[0m \u001b[1m20s\u001b[0m 177ms/step - accuracy: 0.8678 - loss: 0.4762 - val_accuracy: 0.6943 - val_loss: 1.1071\n",
            "Epoch 60/100\n",
            "\u001b[1m60/60\u001b[0m \u001b[32m━━━━━━━━━━━━━━━━━━━━\u001b[0m\u001b[37m\u001b[0m \u001b[1m11s\u001b[0m 187ms/step - accuracy: 0.8688 - loss: 0.4795 - val_accuracy: 0.6981 - val_loss: 1.0795\n",
            "Epoch 61/100\n",
            "\u001b[1m60/60\u001b[0m \u001b[32m━━━━━━━━━━━━━━━━━━━━\u001b[0m\u001b[37m\u001b[0m \u001b[1m11s\u001b[0m 190ms/step - accuracy: 0.8640 - loss: 0.4717 - val_accuracy: 0.6868 - val_loss: 1.1056\n",
            "Epoch 62/100\n",
            "\u001b[1m60/60\u001b[0m \u001b[32m━━━━━━━━━━━━━━━━━━━━\u001b[0m\u001b[37m\u001b[0m \u001b[1m11s\u001b[0m 183ms/step - accuracy: 0.8762 - loss: 0.4512 - val_accuracy: 0.6981 - val_loss: 1.0945\n",
            "Epoch 63/100\n",
            "\u001b[1m60/60\u001b[0m \u001b[32m━━━━━━━━━━━━━━━━━━━━\u001b[0m\u001b[37m\u001b[0m \u001b[1m11s\u001b[0m 179ms/step - accuracy: 0.8799 - loss: 0.4356 - val_accuracy: 0.7019 - val_loss: 1.1191\n",
            "Epoch 64/100\n",
            "\u001b[1m60/60\u001b[0m \u001b[32m━━━━━━━━━━━━━━━━━━━━\u001b[0m\u001b[37m\u001b[0m \u001b[1m11s\u001b[0m 178ms/step - accuracy: 0.8810 - loss: 0.4385 - val_accuracy: 0.6943 - val_loss: 1.1218\n",
            "Epoch 65/100\n",
            "\u001b[1m60/60\u001b[0m \u001b[32m━━━━━━━━━━━━━━━━━━━━\u001b[0m\u001b[37m\u001b[0m \u001b[1m11s\u001b[0m 179ms/step - accuracy: 0.8748 - loss: 0.4254 - val_accuracy: 0.6830 - val_loss: 1.1145\n",
            "Epoch 66/100\n",
            "\u001b[1m60/60\u001b[0m \u001b[32m━━━━━━━━━━━━━━━━━━━━\u001b[0m\u001b[37m\u001b[0m \u001b[1m11s\u001b[0m 182ms/step - accuracy: 0.8918 - loss: 0.4076 - val_accuracy: 0.6868 - val_loss: 1.0834\n",
            "Epoch 67/100\n",
            "\u001b[1m60/60\u001b[0m \u001b[32m━━━━━━━━━━━━━━━━━━━━\u001b[0m\u001b[37m\u001b[0m \u001b[1m11s\u001b[0m 183ms/step - accuracy: 0.8865 - loss: 0.4062 - val_accuracy: 0.6906 - val_loss: 1.1048\n",
            "Epoch 68/100\n",
            "\u001b[1m60/60\u001b[0m \u001b[32m━━━━━━━━━━━━━━━━━━━━\u001b[0m\u001b[37m\u001b[0m \u001b[1m11s\u001b[0m 185ms/step - accuracy: 0.9006 - loss: 0.3767 - val_accuracy: 0.6717 - val_loss: 1.1473\n",
            "Epoch 69/100\n",
            "\u001b[1m60/60\u001b[0m \u001b[32m━━━━━━━━━━━━━━━━━━━━\u001b[0m\u001b[37m\u001b[0m \u001b[1m11s\u001b[0m 181ms/step - accuracy: 0.8933 - loss: 0.3961 - val_accuracy: 0.6868 - val_loss: 1.1046\n",
            "Epoch 70/100\n",
            "\u001b[1m60/60\u001b[0m \u001b[32m━━━━━━━━━━━━━━━━━━━━\u001b[0m\u001b[37m\u001b[0m \u001b[1m11s\u001b[0m 180ms/step - accuracy: 0.9013 - loss: 0.3726 - val_accuracy: 0.6981 - val_loss: 1.1208\n",
            "Epoch 71/100\n",
            "\u001b[1m60/60\u001b[0m \u001b[32m━━━━━━━━━━━━━━━━━━━━\u001b[0m\u001b[37m\u001b[0m \u001b[1m11s\u001b[0m 180ms/step - accuracy: 0.8926 - loss: 0.3806 - val_accuracy: 0.7019 - val_loss: 1.0990\n",
            "Epoch 72/100\n",
            "\u001b[1m60/60\u001b[0m \u001b[32m━━━━━━━━━━━━━━━━━━━━\u001b[0m\u001b[37m\u001b[0m \u001b[1m11s\u001b[0m 182ms/step - accuracy: 0.9048 - loss: 0.3611 - val_accuracy: 0.6868 - val_loss: 1.1297\n",
            "Epoch 73/100\n",
            "\u001b[1m60/60\u001b[0m \u001b[32m━━━━━━━━━━━━━━━━━━━━\u001b[0m\u001b[37m\u001b[0m \u001b[1m11s\u001b[0m 179ms/step - accuracy: 0.9082 - loss: 0.3547 - val_accuracy: 0.6981 - val_loss: 1.1098\n",
            "Epoch 74/100\n",
            "\u001b[1m60/60\u001b[0m \u001b[32m━━━━━━━━━━━━━━━━━━━━\u001b[0m\u001b[37m\u001b[0m \u001b[1m11s\u001b[0m 179ms/step - accuracy: 0.9099 - loss: 0.3407 - val_accuracy: 0.7208 - val_loss: 1.0912\n",
            "Epoch 75/100\n",
            "\u001b[1m60/60\u001b[0m \u001b[32m━━━━━━━━━━━━━━━━━━━━\u001b[0m\u001b[37m\u001b[0m \u001b[1m11s\u001b[0m 180ms/step - accuracy: 0.9147 - loss: 0.3371 - val_accuracy: 0.7094 - val_loss: 1.0978\n",
            "Epoch 76/100\n",
            "\u001b[1m60/60\u001b[0m \u001b[32m━━━━━━━━━━━━━━━━━━━━\u001b[0m\u001b[37m\u001b[0m \u001b[1m11s\u001b[0m 181ms/step - accuracy: 0.9101 - loss: 0.3400 - val_accuracy: 0.7170 - val_loss: 1.1142\n",
            "Epoch 77/100\n",
            "\u001b[1m60/60\u001b[0m \u001b[32m━━━━━━━━━━━━━━━━━━━━\u001b[0m\u001b[37m\u001b[0m \u001b[1m11s\u001b[0m 184ms/step - accuracy: 0.9156 - loss: 0.3202 - val_accuracy: 0.7283 - val_loss: 1.0922\n",
            "Epoch 78/100\n",
            "\u001b[1m60/60\u001b[0m \u001b[32m━━━━━━━━━━━━━━━━━━━━\u001b[0m\u001b[37m\u001b[0m \u001b[1m11s\u001b[0m 181ms/step - accuracy: 0.9226 - loss: 0.3077 - val_accuracy: 0.7094 - val_loss: 1.1491\n",
            "Epoch 79/100\n",
            "\u001b[1m60/60\u001b[0m \u001b[32m━━━━━━━━━━━━━━━━━━━━\u001b[0m\u001b[37m\u001b[0m \u001b[1m11s\u001b[0m 181ms/step - accuracy: 0.9102 - loss: 0.3302 - val_accuracy: 0.7132 - val_loss: 1.1104\n",
            "Epoch 80/100\n",
            "\u001b[1m60/60\u001b[0m \u001b[32m━━━━━━━━━━━━━━━━━━━━\u001b[0m\u001b[37m\u001b[0m \u001b[1m11s\u001b[0m 180ms/step - accuracy: 0.9271 - loss: 0.2927 - val_accuracy: 0.7019 - val_loss: 1.1409\n",
            "Epoch 81/100\n",
            "\u001b[1m60/60\u001b[0m \u001b[32m━━━━━━━━━━━━━━━━━━━━\u001b[0m\u001b[37m\u001b[0m \u001b[1m11s\u001b[0m 181ms/step - accuracy: 0.9290 - loss: 0.2890 - val_accuracy: 0.6906 - val_loss: 1.1039\n",
            "Epoch 82/100\n",
            "\u001b[1m60/60\u001b[0m \u001b[32m━━━━━━━━━━━━━━━━━━━━\u001b[0m\u001b[37m\u001b[0m \u001b[1m11s\u001b[0m 180ms/step - accuracy: 0.9287 - loss: 0.2761 - val_accuracy: 0.7019 - val_loss: 1.1164\n",
            "Epoch 83/100\n",
            "\u001b[1m60/60\u001b[0m \u001b[32m━━━━━━━━━━━━━━━━━━━━\u001b[0m\u001b[37m\u001b[0m \u001b[1m11s\u001b[0m 183ms/step - accuracy: 0.9265 - loss: 0.2826 - val_accuracy: 0.6792 - val_loss: 1.1006\n",
            "Epoch 84/100\n",
            "\u001b[1m60/60\u001b[0m \u001b[32m━━━━━━━━━━━━━━━━━━━━\u001b[0m\u001b[37m\u001b[0m \u001b[1m11s\u001b[0m 180ms/step - accuracy: 0.9273 - loss: 0.2735 - val_accuracy: 0.7057 - val_loss: 1.1206\n",
            "Epoch 85/100\n",
            "\u001b[1m60/60\u001b[0m \u001b[32m━━━━━━━━━━━━━━━━━━━━\u001b[0m\u001b[37m\u001b[0m \u001b[1m20s\u001b[0m 176ms/step - accuracy: 0.9308 - loss: 0.2626 - val_accuracy: 0.7094 - val_loss: 1.1207\n",
            "Epoch 86/100\n",
            "\u001b[1m60/60\u001b[0m \u001b[32m━━━━━━━━━━━━━━━━━━━━\u001b[0m\u001b[37m\u001b[0m \u001b[1m11s\u001b[0m 185ms/step - accuracy: 0.9227 - loss: 0.2804 - val_accuracy: 0.6943 - val_loss: 1.1362\n",
            "Epoch 87/100\n",
            "\u001b[1m60/60\u001b[0m \u001b[32m━━━━━━━━━━━━━━━━━━━━\u001b[0m\u001b[37m\u001b[0m \u001b[1m12s\u001b[0m 191ms/step - accuracy: 0.9344 - loss: 0.2526 - val_accuracy: 0.6906 - val_loss: 1.1388\n",
            "Epoch 88/100\n",
            "\u001b[1m60/60\u001b[0m \u001b[32m━━━━━━━━━━━━━━━━━━━━\u001b[0m\u001b[37m\u001b[0m \u001b[1m11s\u001b[0m 187ms/step - accuracy: 0.9382 - loss: 0.2549 - val_accuracy: 0.6943 - val_loss: 1.1231\n",
            "Epoch 89/100\n",
            "\u001b[1m60/60\u001b[0m \u001b[32m━━━━━━━━━━━━━━━━━━━━\u001b[0m\u001b[37m\u001b[0m \u001b[1m11s\u001b[0m 181ms/step - accuracy: 0.9287 - loss: 0.2559 - val_accuracy: 0.7019 - val_loss: 1.1305\n",
            "Epoch 90/100\n",
            "\u001b[1m60/60\u001b[0m \u001b[32m━━━━━━━━━━━━━━━━━━━━\u001b[0m\u001b[37m\u001b[0m \u001b[1m11s\u001b[0m 178ms/step - accuracy: 0.9382 - loss: 0.2432 - val_accuracy: 0.7208 - val_loss: 1.0929\n",
            "Epoch 91/100\n",
            "\u001b[1m60/60\u001b[0m \u001b[32m━━━━━━━━━━━━━━━━━━━━\u001b[0m\u001b[37m\u001b[0m \u001b[1m11s\u001b[0m 178ms/step - accuracy: 0.9360 - loss: 0.2516 - val_accuracy: 0.7057 - val_loss: 1.1441\n",
            "Epoch 92/100\n",
            "\u001b[1m60/60\u001b[0m \u001b[32m━━━━━━━━━━━━━━━━━━━━\u001b[0m\u001b[37m\u001b[0m \u001b[1m11s\u001b[0m 178ms/step - accuracy: 0.9343 - loss: 0.2532 - val_accuracy: 0.6868 - val_loss: 1.1409\n",
            "Epoch 93/100\n",
            "\u001b[1m60/60\u001b[0m \u001b[32m━━━━━━━━━━━━━━━━━━━━\u001b[0m\u001b[37m\u001b[0m \u001b[1m11s\u001b[0m 179ms/step - accuracy: 0.9400 - loss: 0.2285 - val_accuracy: 0.7208 - val_loss: 1.1250\n",
            "Epoch 94/100\n",
            "\u001b[1m60/60\u001b[0m \u001b[32m━━━━━━━━━━━━━━━━━━━━\u001b[0m\u001b[37m\u001b[0m \u001b[1m11s\u001b[0m 184ms/step - accuracy: 0.9377 - loss: 0.2343 - val_accuracy: 0.6943 - val_loss: 1.1507\n",
            "Epoch 95/100\n",
            "\u001b[1m60/60\u001b[0m \u001b[32m━━━━━━━━━━━━━━━━━━━━\u001b[0m\u001b[37m\u001b[0m \u001b[1m11s\u001b[0m 182ms/step - accuracy: 0.9397 - loss: 0.2252 - val_accuracy: 0.7019 - val_loss: 1.1512\n",
            "Epoch 96/100\n",
            "\u001b[1m60/60\u001b[0m \u001b[32m━━━━━━━━━━━━━━━━━━━━\u001b[0m\u001b[37m\u001b[0m \u001b[1m20s\u001b[0m 177ms/step - accuracy: 0.9484 - loss: 0.2122 - val_accuracy: 0.7094 - val_loss: 1.1773\n",
            "Epoch 97/100\n",
            "\u001b[1m60/60\u001b[0m \u001b[32m━━━━━━━━━━━━━━━━━━━━\u001b[0m\u001b[37m\u001b[0m \u001b[1m11s\u001b[0m 184ms/step - accuracy: 0.9426 - loss: 0.2212 - val_accuracy: 0.7019 - val_loss: 1.1791\n",
            "Epoch 98/100\n",
            "\u001b[1m60/60\u001b[0m \u001b[32m━━━━━━━━━━━━━━━━━━━━\u001b[0m\u001b[37m\u001b[0m \u001b[1m11s\u001b[0m 190ms/step - accuracy: 0.9497 - loss: 0.2082 - val_accuracy: 0.7057 - val_loss: 1.1677\n",
            "Epoch 99/100\n",
            "\u001b[1m60/60\u001b[0m \u001b[32m━━━━━━━━━━━━━━━━━━━━\u001b[0m\u001b[37m\u001b[0m \u001b[1m11s\u001b[0m 181ms/step - accuracy: 0.9485 - loss: 0.2102 - val_accuracy: 0.7019 - val_loss: 1.1494\n",
            "Epoch 100/100\n",
            "\u001b[1m60/60\u001b[0m \u001b[32m━━━━━━━━━━━━━━━━━━━━\u001b[0m\u001b[37m\u001b[0m \u001b[1m11s\u001b[0m 180ms/step - accuracy: 0.9518 - loss: 0.1955 - val_accuracy: 0.7094 - val_loss: 1.1394\n"
          ]
        },
        {
          "output_type": "execute_result",
          "data": {
            "text/plain": [
              "<keras.src.callbacks.history.History at 0x7c9fa01e3550>"
            ]
          },
          "metadata": {},
          "execution_count": 12
        }
      ]
    },
    {
      "cell_type": "code",
      "execution_count": 13,
      "metadata": {
        "colab": {
          "base_uri": "https://localhost:8080/"
        },
        "id": "AYHwnr357pa7",
        "outputId": "7ebe0456-8dd5-45e7-f792-926428e2302f"
      },
      "outputs": [
        {
          "output_type": "stream",
          "name": "stdout",
          "text": [
            "\u001b[1m3/3\u001b[0m \u001b[32m━━━━━━━━━━━━━━━━━━━━\u001b[0m\u001b[37m\u001b[0m \u001b[1m1s\u001b[0m 108ms/step - accuracy: 0.7008 - loss: 1.4823\n",
            "Test Loss: 1.5525\n",
            "Test Accuracy (Keras): 0.6868\n",
            "\u001b[1m3/3\u001b[0m \u001b[32m━━━━━━━━━━━━━━━━━━━━\u001b[0m\u001b[37m\u001b[0m \u001b[1m2s\u001b[0m 481ms/step\n",
            "Accuracy Score:  0.6868\n",
            "Precision Score: 0.6946\n",
            "Recall Score:    0.6868\n",
            "F1 Score:        0.6742\n"
          ]
        }
      ],
      "source": [
        "# Evaluate on test set\n",
        "loss, accuracy = model.evaluate(test_generator)\n",
        "print(f\"Test Loss: {loss:.4f}\")\n",
        "print(f\"Test Accuracy (Keras): {accuracy:.4f}\")\n",
        "\n",
        "# Predict on test data\n",
        "y_probs = model.predict(test_generator)\n",
        "y_pred = np.argmax(y_probs, axis=1)\n",
        "y_true = test_generator.classes\n",
        "\n",
        "# Compute metrics\n",
        "acc = accuracy_score(y_true, y_pred)\n",
        "prec = precision_score(y_true, y_pred, average='weighted', zero_division=0)\n",
        "rec = recall_score(y_true, y_pred, average='weighted', zero_division=0)\n",
        "f1 = f1_score(y_true, y_pred, average='weighted', zero_division=0)\n",
        "\n",
        "# Print results\n",
        "print(f\"Accuracy Score:  {acc:.4f}\")\n",
        "print(f\"Precision Score: {prec:.4f}\")\n",
        "print(f\"Recall Score:    {rec:.4f}\")\n",
        "print(f\"F1 Score:        {f1:.4f}\")"
      ]
    },
    {
      "cell_type": "code",
      "source": [],
      "metadata": {
        "id": "UsN2LA-uZ8Bv"
      },
      "execution_count": null,
      "outputs": []
    }
  ]
}